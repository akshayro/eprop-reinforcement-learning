{
 "cells": [
  {
   "cell_type": "code",
   "execution_count": 134,
   "metadata": {},
   "outputs": [],
   "source": [
    "import numpy as np\n",
    "import numba as nb\n",
    "import matplotlib.pyplot as plt\n",
    "import spikes4 as spk4\n",
    "import snn_models\n",
    "\n",
    "import scipy.io as sio #allows for importing of .mat files\n",
    "\n",
    "from elephant.spike_train_generation import homogeneous_poisson_process\n",
    "from quantities import Hz, s, ms"
   ]
  },
  {
   "cell_type": "code",
   "execution_count": 135,
   "metadata": {},
   "outputs": [],
   "source": [
    "rootDir = ''\n",
    "fn = 'contdata95.mat'\n",
    "\n",
    "# conv_size = 3 # size of time history\n",
    "\n",
    "# load the mat file\n",
    "mat = sio.loadmat(rootDir+fn)\n",
    "\n",
    "# Get each variable from the mat file\n",
    "# (Flipping X and Y so that X = neural data, Y = kinematics)\n",
    "x = mat['Y']\n",
    "y = mat['X'][:,0:4]\n",
    "\n",
    "x = x.astype(float)\n",
    "y = y.astype(float)"
   ]
  },
  {
   "cell_type": "code",
   "execution_count": 136,
   "metadata": {},
   "outputs": [
    {
     "name": "stdout",
     "output_type": "stream",
     "text": [
      "0\n"
     ]
    },
    {
     "ename": "KeyboardInterrupt",
     "evalue": "",
     "output_type": "error",
     "traceback": [
      "\u001b[1;31m---------------------------------------------------------------------------\u001b[0m",
      "\u001b[1;31mKeyboardInterrupt\u001b[0m                         Traceback (most recent call last)",
      "\u001b[1;32m<ipython-input-136-afda5c686149>\u001b[0m in \u001b[0;36m<module>\u001b[1;34m\u001b[0m\n\u001b[0;32m     14\u001b[0m         \u001b[1;32mif\u001b[0m \u001b[0mrate_\u001b[0m \u001b[1;33m>\u001b[0m \u001b[1;36m0\u001b[0m\u001b[1;33m:\u001b[0m\u001b[1;33m\u001b[0m\u001b[1;33m\u001b[0m\u001b[0m\n\u001b[0;32m     15\u001b[0m             \u001b[0mSpktrain\u001b[0m \u001b[1;33m=\u001b[0m \u001b[0mhomogeneous_poisson_process\u001b[0m\u001b[1;33m(\u001b[0m\u001b[0mrate\u001b[0m\u001b[1;33m=\u001b[0m\u001b[0mrate_\u001b[0m\u001b[1;33m*\u001b[0m\u001b[0mHz\u001b[0m\u001b[1;33m,\u001b[0m \u001b[0mt_start\u001b[0m\u001b[1;33m=\u001b[0m\u001b[1;36m0.0\u001b[0m\u001b[1;33m*\u001b[0m\u001b[0mms\u001b[0m\u001b[1;33m,\u001b[0m \u001b[0mt_stop\u001b[0m\u001b[1;33m=\u001b[0m\u001b[1;36m100.0\u001b[0m\u001b[1;33m*\u001b[0m\u001b[0mms\u001b[0m\u001b[1;33m)\u001b[0m\u001b[1;33m\u001b[0m\u001b[1;33m\u001b[0m\u001b[0m\n\u001b[1;32m---> 16\u001b[1;33m             \u001b[0mtmp\u001b[0m \u001b[1;33m=\u001b[0m \u001b[0mnp\u001b[0m\u001b[1;33m.\u001b[0m\u001b[0mconcatenate\u001b[0m\u001b[1;33m(\u001b[0m\u001b[1;33m(\u001b[0m\u001b[0mtmp\u001b[0m\u001b[1;33m,\u001b[0m \u001b[0mnp\u001b[0m\u001b[1;33m.\u001b[0m\u001b[0marray\u001b[0m\u001b[1;33m(\u001b[0m\u001b[0mSpktrain\u001b[0m\u001b[1;33m)\u001b[0m \u001b[1;33m+\u001b[0m \u001b[0mt\u001b[0m\u001b[1;33m*\u001b[0m\u001b[1;36m100.\u001b[0m\u001b[1;33m)\u001b[0m\u001b[1;33m)\u001b[0m\u001b[1;33m\u001b[0m\u001b[1;33m\u001b[0m\u001b[0m\n\u001b[0m\u001b[0;32m     17\u001b[0m     \u001b[0mspike_time\u001b[0m\u001b[1;33m[\u001b[0m\u001b[0mn\u001b[0m\u001b[1;33m]\u001b[0m \u001b[1;33m=\u001b[0m \u001b[0mnp\u001b[0m\u001b[1;33m.\u001b[0m\u001b[0mrint\u001b[0m\u001b[1;33m(\u001b[0m\u001b[0mtmp\u001b[0m\u001b[1;33m)\u001b[0m\u001b[1;33m.\u001b[0m\u001b[0mastype\u001b[0m\u001b[1;33m(\u001b[0m\u001b[0mint\u001b[0m\u001b[1;33m)\u001b[0m\u001b[1;33m\u001b[0m\u001b[1;33m\u001b[0m\u001b[0m\n",
      "\u001b[1;32m<__array_function__ internals>\u001b[0m in \u001b[0;36mconcatenate\u001b[1;34m(*args, **kwargs)\u001b[0m\n",
      "\u001b[1;31mKeyboardInterrupt\u001b[0m: "
     ]
    }
   ],
   "source": [
    "# this takes about 1 hr to run (there is better a way to do it, but will do it later)\n",
    "\n",
    "nsamp = x.shape[0]        # number of sample\n",
    "N_neuron = x.shape[1]     # number of neuron\n",
    "#N_neuron = 1\n",
    "spike_time = [[] for x in range(N_neuron)]\n",
    "x_Hz = x*10\n",
    "\n",
    "for n in range(N_neuron):\n",
    "    print(n)\n",
    "    tmp = []\n",
    "    for t in range(nsamp):\n",
    "        rate_ = x_Hz[t,n]\n",
    "        if rate_ > 0:\n",
    "            Spktrain = homogeneous_poisson_process(rate=rate_*Hz, t_start=0.0*ms, t_stop=100.0*ms)\n",
    "            tmp = np.concatenate((tmp, np.array(Spktrain) + t*100.))        \n",
    "    spike_time[n] = np.rint(tmp).astype(int)"
   ]
  },
  {
   "cell_type": "code",
   "execution_count": null,
   "metadata": {},
   "outputs": [],
   "source": [
    "spike_data = np.zeros((nsamp*100,N_neuron))\n",
    "for n in range(N_neuron):\n",
    "    sp_t = spike_time[n]\n",
    "    spike_data[sp_t,n] = 1"
   ]
  },
  {
   "cell_type": "code",
   "execution_count": null,
   "metadata": {},
   "outputs": [],
   "source": [
    "# saving the output, spike_data95.npy has already been generated, so no need to do it again,\n",
    "# becareful not to overwrite the existing one\n",
    "\n",
    "#with open('spike_data95.npy', 'wb') as f:\n",
    "#    np.save(g, spike_data)"
   ]
  },
  {
   "cell_type": "code",
   "execution_count": 132,
   "metadata": {},
   "outputs": [
    {
     "name": "stdout",
     "output_type": "stream",
     "text": [
      "(3141300, 4)\n"
     ]
    }
   ],
   "source": [
    "# interpolation of y \n",
    "\n",
    "from scipy.interpolate import interp1d\n",
    "\n",
    "x = np.linspace(1,y.shape[0],num=y.shape[0])      # [ms]\n",
    "x = x - 1  \n",
    "\n",
    "f1 = interp1d(x, y[:,0], kind='cubic')\n",
    "f2 = interp1d(x, y[:,1], kind='cubic')\n",
    "f3 = interp1d(x, y[:,2], kind='cubic')\n",
    "f4 = interp1d(x, y[:,3], kind='cubic')\n",
    "\n",
    "xnew = np.zeros(y.shape[0]*100)\n",
    "for i in range(xnew.shape[0]-100):\n",
    "    xnew[i] = 0.01*i\n",
    "\n",
    "y1 = f1(xnew)\n",
    "y2 = f2(xnew)\n",
    "y3 = f3(xnew)\n",
    "y4 = f4(xnew)\n",
    "\n",
    "interpolated_y = np.column_stack((y1,y2,y3,y4))\n",
    "print(interpolated_y.shape)"
   ]
  },
  {
   "cell_type": "code",
   "execution_count": 133,
   "metadata": {},
   "outputs": [],
   "source": [
    "with open('interpolated_y95.npy', 'wb') as h:\n",
    "    np.save(h, interpolated_y)"
   ]
  }
 ],
 "metadata": {
  "kernelspec": {
   "display_name": "Python 3",
   "language": "python",
   "name": "python3"
  },
  "language_info": {
   "codemirror_mode": {
    "name": "ipython",
    "version": 3
   },
   "file_extension": ".py",
   "mimetype": "text/x-python",
   "name": "python",
   "nbconvert_exporter": "python",
   "pygments_lexer": "ipython3",
   "version": "3.8.3"
  }
 },
 "nbformat": 4,
 "nbformat_minor": 5
}
