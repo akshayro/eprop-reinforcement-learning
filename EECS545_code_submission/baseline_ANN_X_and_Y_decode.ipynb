{
 "cells": [
  {
   "cell_type": "code",
   "execution_count": 26,
   "metadata": {
    "colab": {
     "base_uri": "https://localhost:8080/"
    },
    "executionInfo": {
     "elapsed": 811,
     "status": "ok",
     "timestamp": 1619822041168,
     "user": {
      "displayName": "Chun Hang Herman Chan",
      "photoUrl": "",
      "userId": "11511399484941609713"
     },
     "user_tz": 240
    },
    "id": "kOSoBIj_8g9b",
    "outputId": "ea4559c6-f6d0-42d2-93af-d3ea65a21201"
   },
   "outputs": [
    {
     "name": "stdout",
     "output_type": "stream",
     "text": [
      "Drive already mounted at /content/drive; to attempt to forcibly remount, call drive.mount(\"/content/drive\", force_remount=True).\n"
     ]
    }
   ],
   "source": [
    "#code template by Matt Mender, W-2021\n",
    "\n",
    "import torch\n",
    "import torch.nn as nn\n",
    "import matplotlib.pyplot as plt\n",
    "import scipy.io as sio #allows for importing of .mat files \n",
    "import numpy\n",
    "import time\n",
    "from torch.utils.data import DataLoader, sampler, TensorDataset \n",
    "import torch.nn.functional as F\n",
    "\n",
    "# If you are using colab, these commands may be helpful\n",
    "from google.colab import drive\n",
    "drive.mount(\"/content/drive\")\n"
   ]
  },
  {
   "cell_type": "code",
   "execution_count": 27,
   "metadata": {
    "executionInfo": {
     "elapsed": 502,
     "status": "ok",
     "timestamp": 1619822044577,
     "user": {
      "displayName": "Chun Hang Herman Chan",
      "photoUrl": "",
      "userId": "11511399484941609713"
     },
     "user_tz": 240
    },
    "id": "NyoU-c148i_W"
   },
   "outputs": [],
   "source": [
    "# Import your data here\n",
    "rootDir = \"/content/drive/My Drive/\"###Set this to the directory that has the contdata95 file\n",
    "fn = 'contdata95.mat'\n",
    "\n",
    "dtype = torch.float\n",
    "conv_size = 0 # size of time history\n",
    "\n",
    "# load the mat file\n",
    "mat = sio.loadmat(rootDir+fn)\n",
    "\n",
    "# Get each variable from the mat file\n",
    "X = torch.tensor(mat['Y']) # This is switching Y in the mat file to X in our code - we programmed this with X as the neural data but contdata95.mat has Y as neural data.\n",
    "#y = torch.tensor(mat['X'])[:,0:4]\n",
    "y = torch.tensor(mat['X']) \n",
    "\n",
    "#X = X[0:10000, 0:95]\n",
    "#y = y[0:10000, 0:1]\n",
    "\n",
    "y = y[:, 0:2]\n",
    "\n",
    "nsamp = X.shape[0]\n",
    "ntrain = int(numpy.round(nsamp*0.8)) # using 80% of data for training\n",
    "ntest = int(numpy.round(nsamp*0.9)) # using 90% of data for testing\n",
    "\n",
    "X_train = X[0:ntrain,:].to(dtype)\n",
    "#X_test = X[ntrain+1:,:].to(dtype)\n",
    "X_test = X[ntest+1:,:].to(dtype)\n",
    "y_train = y[0:ntrain,:].to(dtype)\n",
    "#y_test = y[ntrain+1:,:].to(dtype)\n",
    "y_test = y[ntest+1:,:].to(dtype)\n",
    "\n",
    "\n",
    "# Initialize tensor with conv_size*nfeatures features\n",
    "#X_ctrain = torch.zeros((int(X_train.shape[0]), int(X_train.shape[1]*conv_size)), dtype=dtype)\n",
    "#X_ctest = torch.zeros((int(X_test.shape[0]), int(X_test.shape[1]*conv_size)), dtype=dtype)\n",
    "#X_ctrain[:,0:X_train.shape[1]] = X_train\n",
    "#X_ctest[:,0:X_test.shape[1]] = X_test\n",
    "X_ctest = X_test\n",
    "X_ctrain = X_train\n",
    "# Add the previous 3 time bins features as a feature in the current time bin\n",
    "#for k1 in range(conv_size-1):\n",
    "#    k = k1+1\n",
    "#    X_ctrain[k:, int(X_train.shape[1]*k):int(X_train.shape[1]*(k+1))] = X_train[0:-k, :]\n",
    "#    X_ctest[k:, int(X_test.shape[1]*k):int(X_test.shape[1]*(k+1))] = X_test[0:-k, :]\n",
    "\n",
    "# Create Dataset and dataloader\n",
    "test_ds= TensorDataset(X_ctest, y_test)\n",
    "train_ds = TensorDataset(X_ctrain, y_train)\n",
    "\n",
    "#If a batch in BatchNorm only has 1 sample it wont work, so dropping the last in case that happens\n",
    "train_dl = DataLoader(train_ds, batch_size=64, shuffle=True, drop_last=True)\n",
    "test_dl = DataLoader(test_ds, batch_size=len(test_ds), shuffle=False, drop_last=True)"
   ]
  },
  {
   "cell_type": "code",
   "execution_count": 28,
   "metadata": {
    "colab": {
     "base_uri": "https://localhost:8080/"
    },
    "executionInfo": {
     "elapsed": 695,
     "status": "ok",
     "timestamp": 1619822049916,
     "user": {
      "displayName": "Chun Hang Herman Chan",
      "photoUrl": "",
      "userId": "11511399484941609713"
     },
     "user_tz": 240
    },
    "id": "Mom4ID89fA4f",
    "outputId": "4977d9d7-e7ee-420a-f598-7972547c9ab2"
   },
   "outputs": [
    {
     "data": {
      "text/plain": [
       "torch.Size([3140, 95])"
      ]
     },
     "execution_count": 28,
     "metadata": {
      "tags": []
     },
     "output_type": "execute_result"
    }
   ],
   "source": [
    "X_ctest.shape"
   ]
  },
  {
   "cell_type": "code",
   "execution_count": 29,
   "metadata": {
    "colab": {
     "base_uri": "https://localhost:8080/"
    },
    "executionInfo": {
     "elapsed": 333,
     "status": "ok",
     "timestamp": 1619822050146,
     "user": {
      "displayName": "Chun Hang Herman Chan",
      "photoUrl": "",
      "userId": "11511399484941609713"
     },
     "user_tz": 240
    },
    "id": "KCi5XNz1fEZW",
    "outputId": "34dff05c-8ef5-42cc-9059-d3824c5cc0bc"
   },
   "outputs": [
    {
     "data": {
      "text/plain": [
       "torch.Size([3140, 2])"
      ]
     },
     "execution_count": 29,
     "metadata": {
      "tags": []
     },
     "output_type": "execute_result"
    }
   ],
   "source": [
    "y_test.shape"
   ]
  },
  {
   "cell_type": "code",
   "execution_count": 30,
   "metadata": {
    "colab": {
     "base_uri": "https://localhost:8080/"
    },
    "executionInfo": {
     "elapsed": 632,
     "status": "ok",
     "timestamp": 1619822051205,
     "user": {
      "displayName": "Chun Hang Herman Chan",
      "photoUrl": "",
      "userId": "11511399484941609713"
     },
     "user_tz": 240
    },
    "id": "ETCIVKusotQE",
    "outputId": "a2bd649b-62de-41ae-837c-39845044c74d"
   },
   "outputs": [
    {
     "data": {
      "text/plain": [
       "torch.Size([25130, 95])"
      ]
     },
     "execution_count": 30,
     "metadata": {
      "tags": []
     },
     "output_type": "execute_result"
    }
   ],
   "source": [
    "X_ctrain.size()"
   ]
  },
  {
   "cell_type": "code",
   "execution_count": 31,
   "metadata": {
    "executionInfo": {
     "elapsed": 315,
     "status": "ok",
     "timestamp": 1619822054132,
     "user": {
      "displayName": "Chun Hang Herman Chan",
      "photoUrl": "",
      "userId": "11511399484941609713"
     },
     "user_tz": 240
    },
    "id": "GVq_8fhhExLT"
   },
   "outputs": [],
   "source": [
    "#batch normalization\n",
    "#fully connected layer\n",
    "#dropout\n",
    "#relu\n",
    "\n",
    "class myNetwork(nn.Module):\n",
    "    def __init__(self, input_size, hidden_size, num_states):\n",
    "        super().__init__()\n",
    "        # Define the different layers\n",
    "        #  Input layer\n",
    "        self.bn1 = nn.BatchNorm1d(input_size) # batch normalize inputs to fc1\n",
    "        ####? linear layer\n",
    "        self.input = nn.Linear(input_size, hidden_size)\n",
    "        ####? dropout layer\n",
    "        self.dropout1 = nn.Dropout(0.5)\n",
    "        \n",
    "        #  Hidden layer\n",
    "        self.bn2 = nn.BatchNorm1d(hidden_size)\n",
    "        self.hidden = nn.Linear(hidden_size, hidden_size)\n",
    "        self.dropout2 = nn.Dropout(0.5)     \n",
    "        #  Output layer\n",
    "        self.bn3 = nn.BatchNorm1d(hidden_size) \n",
    "        self.output = nn.Linear(hidden_size, num_states)\n",
    "        # Initialization\n",
    "        nn.init.kaiming_normal_(self.input.weight, nonlinearity='relu')\n",
    "        nn.init.kaiming_normal_(self.hidden.weight, nonlinearity='relu')\n",
    "        nn.init.kaiming_normal_(self.output.weight, nonlinearity='relu')\n",
    "        # Your code here\n",
    "\n",
    "    def forward(self, x):\n",
    "        # x is your data\n",
    "\n",
    "        # input layer\n",
    "        x = self.bn1(x)\n",
    "        ####? 3 more steps in this layer\n",
    "        x = self.input(x)\n",
    "        x = self.dropout1(x) \n",
    "        x = F.relu(x)\n",
    "\n",
    "       # hidden layer\n",
    "        x = self.bn2(x)\n",
    "        x = self.hidden(x)\n",
    "        x = self.dropout2(x) \n",
    "        x = F.relu(x)\n",
    "        # output layer\n",
    "        x = self.bn3(x)\n",
    "        x = self.output(x)\n",
    "        \n",
    "        #### Your code here\n",
    "        scores = x ####Point this towards your output linear layer\n",
    "\n",
    "        return scores"
   ]
  },
  {
   "cell_type": "code",
   "execution_count": 32,
   "metadata": {
    "executionInfo": {
     "elapsed": 450,
     "status": "ok",
     "timestamp": 1619822055772,
     "user": {
      "displayName": "Chun Hang Herman Chan",
      "photoUrl": "",
      "userId": "11511399484941609713"
     },
     "user_tz": 240
    },
    "id": "HrxEZpZ1Ge4V"
   },
   "outputs": [],
   "source": [
    "# Specify a model, loss function, and optimizer\n",
    "weight_decay = 1e-2\n",
    "learning_rate = 1e-5\n",
    "\n",
    "#### Your code here for creating the network\n",
    "theNetwork = myNetwork(95,100,2)\n",
    "\n",
    "#Define the loss function\n",
    "loss_fn = nn.MSELoss()\n",
    "\n",
    "#Define the optimizer\n",
    "opt = torch.optim.Adam(theNetwork.parameters(), lr=learning_rate, weight_decay=weight_decay)"
   ]
  },
  {
   "cell_type": "code",
   "execution_count": 33,
   "metadata": {
    "executionInfo": {
     "elapsed": 375,
     "status": "ok",
     "timestamp": 1619822057441,
     "user": {
      "displayName": "Chun Hang Herman Chan",
      "photoUrl": "",
      "userId": "11511399484941609713"
     },
     "user_tz": 240
    },
    "id": "7tz7Ai7r_4pI"
   },
   "outputs": [],
   "source": [
    "def myfit(epochs, nntofit, loss_fn, opt, train_dl, val_dl, print_every=1):\n",
    "    train_loss = torch.zeros(epochs * len(train_dl) , dtype=torch.float) # train error for every iteration\n",
    "    validation_loss = torch.zeros(epochs , dtype=torch.float) # validation is only once per epoch\n",
    "    i = -1 # iteration number\n",
    "    for epoch in range(epochs):\n",
    "        \n",
    "        for x,y in train_dl: # batch of training points\n",
    "            i += 1\n",
    "            # Set model in train mode (for batch normalization and dropout)\n",
    "            nntofit.train()\n",
    "            \n",
    "            # 1. Generate your predictions by running x through the network\n",
    "            yh = theNetwork(x) ####?\n",
    "        \n",
    "            # 2. Find Loss by comparing predicted and actual using loss function\n",
    "            loss = loss_fn(yh,y) ####?\n",
    "            \n",
    "            # 3. Calculate gradients with respect to weights/biases \n",
    "            loss.backward()####?\n",
    "            train_loss[i] = loss.item() #Keep track of loss on training data\n",
    "        \n",
    "            # 4. Adjust your weights by taking a step forward on the optimizer\n",
    "            opt.step() \n",
    "            \n",
    "            # 5. Reset the gradients to zero on the optimizer\n",
    "            opt.zero_grad()\n",
    "            \n",
    "        #Validation accuracy\n",
    "        for xval,yval in val_dl:\n",
    "            with torch.no_grad(): # disable gradient calculation\n",
    "                nntofit.eval() # set model to evaluation mode (matters for batch normalization and dropout)\n",
    "                loss2 = loss_fn(nntofit(xval),yval)\n",
    "                validation_loss[epoch] = loss2.item()\n",
    "    return train_loss, validation_loss"
   ]
  },
  {
   "cell_type": "code",
   "execution_count": 34,
   "metadata": {
    "colab": {
     "base_uri": "https://localhost:8080/"
    },
    "executionInfo": {
     "elapsed": 45378,
     "status": "ok",
     "timestamp": 1619822105023,
     "user": {
      "displayName": "Chun Hang Herman Chan",
      "photoUrl": "",
      "userId": "11511399484941609713"
     },
     "user_tz": 240
    },
    "id": "fBdVlmZmGKAK",
    "outputId": "fbbefe7e-37f4-47df-8960-e2b7de9e808a"
   },
   "outputs": [
    {
     "name": "stdout",
     "output_type": "stream",
     "text": [
      "--- 44.913453340530396 seconds ---\n"
     ]
    }
   ],
   "source": [
    "start_time = time.time()\n",
    "# Train the network\n",
    "n_epochs = 30 ####?\n",
    "train_loss, validation_loss = myfit(n_epochs, theNetwork, loss_fn, opt, train_dl, test_dl)\n",
    "print(\"--- %s seconds ---\" % (time.time() - start_time))"
   ]
  },
  {
   "cell_type": "code",
   "execution_count": 35,
   "metadata": {
    "colab": {
     "base_uri": "https://localhost:8080/",
     "height": 295
    },
    "executionInfo": {
     "elapsed": 818,
     "status": "ok",
     "timestamp": 1619822198498,
     "user": {
      "displayName": "Chun Hang Herman Chan",
      "photoUrl": "",
      "userId": "11511399484941609713"
     },
     "user_tz": 240
    },
    "id": "nvsXudGyGSky",
    "outputId": "9cd5cce7-6f2c-49b1-816a-a72d5f0662ba"
   },
   "outputs": [
    {
     "data": {
      "image/png": "[encoded data removed]",
      "text/plain": [
       "<Figure size 432x288 with 1 Axes>"
      ]
     },
     "metadata": {
      "needs_background": "light",
      "tags": []
     },
     "output_type": "display_data"
    }
   ],
   "source": [
    "# Plot training and validation losses\n",
    "plot_epochs = n_epochs\n",
    "\n",
    "val_iters = numpy.arange(0,n_epochs)*len(train_dl)\n",
    "train_iters = numpy.arange(0,len(train_dl)*n_epochs)\n",
    "n_iter = len(train_dl) * n_epochs # number of batches per epoch * number of epochs \n",
    "\n",
    "plt.plot(train_iters[0:plot_epochs*len(train_dl)], train_loss[0:plot_epochs*len(train_dl)], 'b', label=\"training loss\")\n",
    "plt.plot(val_iters[0:plot_epochs], validation_loss[0:plot_epochs], 'r', label=\"validation loss\")\n",
    "plt.xlabel('Number of iterations')\n",
    "plt.ylabel('MSE')\n",
    "plt.title(\"lab11- Training neural network for continuous decoder\")\n",
    "plt.legend()\n",
    "plt.show()"
   ]
  },
  {
   "cell_type": "code",
   "execution_count": 38,
   "metadata": {
    "colab": {
     "base_uri": "https://localhost:8080/",
     "height": 320
    },
    "executionInfo": {
     "elapsed": 1415,
     "status": "ok",
     "timestamp": 1619822229895,
     "user": {
      "displayName": "Chun Hang Herman Chan",
      "photoUrl": "",
      "userId": "11511399484941609713"
     },
     "user_tz": 240
    },
    "id": "u9JihQ6kGVn5",
    "outputId": "f45ac469-167c-4f67-d9cd-280fdd14696c"
   },
   "outputs": [
    {
     "data": {
      "image/png": "[encoded data removed]",
      "text/plain": [
       "<Figure size 432x288 with 2 Axes>"
      ]
     },
     "metadata": {
      "needs_background": "light",
      "tags": []
     },
     "output_type": "display_data"
    },
    {
     "name": "stdout",
     "output_type": "stream",
     "text": [
      "Correlation for X position is 0.219747\n",
      "Correlation for Y position is 0.0439921\n"
     ]
    }
   ],
   "source": [
    "# Plot some example decodes\n",
    "for x,y in test_dl:\n",
    "    with torch.no_grad():\n",
    "        yh = theNetwork(x)\n",
    "        #looking at select channel\n",
    "    th = numpy.arange(0, x.shape[0])*50e-3\n",
    "    \n",
    "    y[:,0] = y[:,0]/100\n",
    "    yh[:,0] = yh[:,0]/100\n",
    "\n",
    "    y[:,1] = y[:,1]/100\n",
    "    yh[:,1] = yh[:,1]/100\n",
    "\n",
    "    plt.subplot(2,1,1)\n",
    "    plt.plot(th[1000:1500], y[1000:1500,0],'b', label=\"actual\")\n",
    "    plt.plot(th[1000:1500],yh[1000:1500,0].detach().numpy(), 'r', label=\"predicted\")\n",
    "    plt.legend()\n",
    "    #plt.xlabel('sec')\n",
    "    #plt.title(\"Example decode of the trained continuous decoder using ANN\")\n",
    "    plt.ylabel('Normalized X-Position')\n",
    "    plt.ylim([-1,1])\n",
    "    plt.xlim([50,60])\n",
    "    plt.subplot(2,1,2)\n",
    "    plt.plot(th[1000:1500], y[1000:1500,1], 'b', label=\"actual\")\n",
    "    plt.plot(th[1000:1500],yh[1000:1500,1].detach().numpy(), 'r', label=\"predicted\")\n",
    "    plt.xlabel('Time [s]')\n",
    "    plt.ylabel('Normalized Y-Position')\n",
    "\n",
    "    \n",
    "    plt.show()\n",
    "    \n",
    "    r = numpy.corrcoef(yh.detach().numpy().T,y.T)\n",
    "    #r = numpy.diag(r[4:,0:4])\n",
    "    r = numpy.diag(r[1:,0:2])\n",
    "    print('Correlation for X position is %g' % r[0])\n",
    "    print('Correlation for Y position is %g' % r[1])\n",
    "    #print('Correlation for X velocity is %g' % r[2])\n",
    "    #print('Correlation for Y velocity is %g' % r[3])\n",
    "    #print('Average Correlation: %g' % numpy.mean(r))"
   ]
  },
  {
   "cell_type": "code",
   "execution_count": null,
   "metadata": {
    "id": "UFz5h8TvIzzp"
   },
   "outputs": [],
   "source": []
  },
  {
   "cell_type": "code",
   "execution_count": null,
   "metadata": {
    "id": "Xufr2kCPKhn6"
   },
   "outputs": [],
   "source": []
  }
 ],
 "metadata": {
  "colab": {
   "authorship_tag": "ABX9TyP4h2vXumjJUhwUiTm83YU/",
   "collapsed_sections": [],
   "name": "lab11_EECS545_modify5_XandY.ipynb",
   "provenance": []
  },
  "kernelspec": {
   "display_name": "Python 3",
   "language": "python",
   "name": "python3"
  },
  "language_info": {
   "codemirror_mode": {
    "name": "ipython",
    "version": 3
   },
   "file_extension": ".py",
   "mimetype": "text/x-python",
   "name": "python",
   "nbconvert_exporter": "python",
   "pygments_lexer": "ipython3",
   "version": "3.8.3"
  }
 },
 "nbformat": 4,
 "nbformat_minor": 1
}
