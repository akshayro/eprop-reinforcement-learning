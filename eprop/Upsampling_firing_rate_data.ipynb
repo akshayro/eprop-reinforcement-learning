{
 "cells": [
  {
   "cell_type": "code",
   "execution_count": 1,
   "metadata": {},
   "outputs": [],
   "source": [
    "import numpy as np\n",
    "import numba as nb\n",
    "import matplotlib.pyplot as plt\n",
    "import spikes4 as spk4\n",
    "import snn_models\n",
    "\n",
    "import scipy.io as sio #allows for importing of .mat files\n",
    "\n",
    "#from elephant.spike_train_generation import homogeneous_poisson_process\n",
    "#from quantities import Hz, s, ms"
   ]
  },
  {
   "cell_type": "code",
   "execution_count": 3,
   "metadata": {},
   "outputs": [
    {
     "name": "stdout",
     "output_type": "stream",
     "text": [
      "(31413, 95)\n",
      "(31413, 4)\n"
     ]
    }
   ],
   "source": [
    "rootDir = ''\n",
    "fn = 'contdata95.mat'\n",
    "\n",
    "# conv_size = 3 # size of time history\n",
    "\n",
    "# load the mat file\n",
    "mat = sio.loadmat(rootDir+fn)\n",
    "\n",
    "# Get each variable from the mat file\n",
    "# (Flipping X and Y so that X = neural data, Y = kinematics)\n",
    "x = mat['Y']\n",
    "y = mat['X'][:,0:4]\n",
    "\n",
    "x = x.astype(float)\n",
    "y = y.astype(float)\n",
    "print(x.shape)\n",
    "print(y.shape)"
   ]
  },
  {
   "cell_type": "code",
   "execution_count": 32,
   "metadata": {},
   "outputs": [],
   "source": [
    "upsampled_x = np.zeros((x.shape[0]*100,95))\n",
    "upsampled_y = np.zeros((y.shape[0]*100,4))\n",
    "\n",
    "for i in range(x.shape[0]):\n",
    "    largest_index = 100*(i+1)\n",
    "    upsampled_x[largest_index-100:largest_index,:] = x[i,:] \n",
    "    upsampled_y[largest_index-100:largest_index,:] = y[i,:] "
   ]
  },
  {
   "cell_type": "code",
   "execution_count": null,
   "metadata": {},
   "outputs": [],
   "source": [
    "# saving the output\n",
    "\n",
    "with open('upsampled_firing_data.npy', 'wb') as f:\n",
    "    np.save(f, upsampled_x)\n",
    "    np.save(f, upsampled_y)"
   ]
  },
  {
   "cell_type": "code",
   "execution_count": null,
   "metadata": {},
   "outputs": [],
   "source": []
  },
  {
   "cell_type": "code",
   "execution_count": null,
   "metadata": {},
   "outputs": [],
   "source": []
  },
  {
   "cell_type": "code",
   "execution_count": null,
   "metadata": {},
   "outputs": [],
   "source": []
  },
  {
   "cell_type": "code",
   "execution_count": null,
   "metadata": {},
   "outputs": [],
   "source": []
  },
  {
   "cell_type": "code",
   "execution_count": 133,
   "metadata": {},
   "outputs": [],
   "source": []
  }
 ],
 "metadata": {
  "kernelspec": {
   "display_name": "Python 3",
   "language": "python",
   "name": "python3"
  },
  "language_info": {
   "codemirror_mode": {
    "name": "ipython",
    "version": 3
   },
   "file_extension": ".py",
   "mimetype": "text/x-python",
   "name": "python",
   "nbconvert_exporter": "python",
   "pygments_lexer": "ipython3",
   "version": "3.8.3"
  }
 },
 "nbformat": 4,
 "nbformat_minor": 5
}
